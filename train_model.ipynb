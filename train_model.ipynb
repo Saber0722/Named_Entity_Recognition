{
 "cells": [
  {
   "cell_type": "markdown",
   "id": "e121ae72",
   "metadata": {},
   "source": [
    "# Model Training"
   ]
  },
  {
   "cell_type": "code",
   "execution_count": 1,
   "id": "55250285",
   "metadata": {},
   "outputs": [
    {
     "name": "stderr",
     "output_type": "stream",
     "text": [
      "2025-05-28 19:04:21.146985: I tensorflow/core/util/port.cc:113] oneDNN custom operations are on. You may see slightly different numerical results due to floating-point round-off errors from different computation orders. To turn them off, set the environment variable `TF_ENABLE_ONEDNN_OPTS=0`.\n",
      "2025-05-28 19:04:27.677028: E external/local_xla/xla/stream_executor/cuda/cuda_dnn.cc:9261] Unable to register cuDNN factory: Attempting to register factory for plugin cuDNN when one has already been registered\n",
      "2025-05-28 19:04:27.688634: E external/local_xla/xla/stream_executor/cuda/cuda_fft.cc:607] Unable to register cuFFT factory: Attempting to register factory for plugin cuFFT when one has already been registered\n",
      "2025-05-28 19:04:28.813862: E external/local_xla/xla/stream_executor/cuda/cuda_blas.cc:1515] Unable to register cuBLAS factory: Attempting to register factory for plugin cuBLAS when one has already been registered\n",
      "2025-05-28 19:04:31.059388: I tensorflow/core/platform/cpu_feature_guard.cc:182] This TensorFlow binary is optimized to use available CPU instructions in performance-critical operations.\n",
      "To enable the following instructions: AVX2 AVX_VNNI FMA, in other operations, rebuild TensorFlow with the appropriate compiler flags.\n",
      "2025-05-28 19:04:45.197759: W tensorflow/compiler/tf2tensorrt/utils/py_utils.cc:38] TF-TRT Warning: Could not find TensorRT\n",
      "/mnt/d/github/Named_Entity_Recognition/ner_venv/lib/python3.11/site-packages/tqdm/auto.py:21: TqdmWarning: IProgress not found. Please update jupyter and ipywidgets. See https://ipywidgets.readthedocs.io/en/stable/user_install.html\n",
      "  from .autonotebook import tqdm as notebook_tqdm\n",
      "/mnt/d/github/Named_Entity_Recognition/ner_venv/lib/python3.11/site-packages/transformers/utils/generic.py:441: FutureWarning: `torch.utils._pytree._register_pytree_node` is deprecated. Please use `torch.utils._pytree.register_pytree_node` instead.\n",
      "  _torch_pytree._register_pytree_node(\n",
      "/mnt/d/github/Named_Entity_Recognition/ner_venv/lib/python3.11/site-packages/transformers/utils/generic.py:309: FutureWarning: `torch.utils._pytree._register_pytree_node` is deprecated. Please use `torch.utils._pytree.register_pytree_node` instead.\n",
      "  _torch_pytree._register_pytree_node(\n",
      "/mnt/d/github/Named_Entity_Recognition/ner_venv/lib/python3.11/site-packages/transformers/utils/generic.py:309: FutureWarning: `torch.utils._pytree._register_pytree_node` is deprecated. Please use `torch.utils._pytree.register_pytree_node` instead.\n",
      "  _torch_pytree._register_pytree_node(\n"
     ]
    }
   ],
   "source": [
    "import tensorflow as tf\n",
    "from transformers import BertTokenizerFast, TFBertForTokenClassification, DataCollatorForTokenClassification\n",
    "from datasets import load_dataset\n",
    "import numpy as np\n",
    "from sklearn.metrics import classification_report\n",
    "import torch"
   ]
  },
  {
   "cell_type": "code",
   "execution_count": 2,
   "id": "69fc91af",
   "metadata": {},
   "outputs": [
    {
     "name": "stdout",
     "output_type": "stream",
     "text": [
      "Num GPUs Available:  1\n"
     ]
    },
    {
     "name": "stderr",
     "output_type": "stream",
     "text": [
      "2025-05-28 19:06:00.648490: I external/local_xla/xla/stream_executor/cuda/cuda_executor.cc:887] could not open file to read NUMA node: /sys/bus/pci/devices/0000:01:00.0/numa_node\n",
      "Your kernel may have been built without NUMA support.\n",
      "2025-05-28 19:06:00.781837: I external/local_xla/xla/stream_executor/cuda/cuda_executor.cc:887] could not open file to read NUMA node: /sys/bus/pci/devices/0000:01:00.0/numa_node\n",
      "Your kernel may have been built without NUMA support.\n",
      "2025-05-28 19:06:00.781882: I external/local_xla/xla/stream_executor/cuda/cuda_executor.cc:887] could not open file to read NUMA node: /sys/bus/pci/devices/0000:01:00.0/numa_node\n",
      "Your kernel may have been built without NUMA support.\n"
     ]
    }
   ],
   "source": [
    "# Checking GPU availability\n",
    "import tensorflow as tf\n",
    "print(\"Num GPUs Available: \", len(tf.config.list_physical_devices('GPU')))\n"
   ]
  },
  {
   "cell_type": "code",
   "execution_count": 3,
   "id": "82c8393d",
   "metadata": {},
   "outputs": [],
   "source": [
    "# Loading the dataset\n",
    "dataset = load_dataset(\"conll2003\", cache_dir=\"./cache\")"
   ]
  },
  {
   "cell_type": "code",
   "execution_count": 4,
   "id": "2dd4870a",
   "metadata": {},
   "outputs": [],
   "source": [
    "# Splitting the dataset\n",
    "train_dataset = dataset['train']\n",
    "validation_dataset = dataset['validation']\n",
    "test_dataset = dataset['test']"
   ]
  },
  {
   "cell_type": "code",
   "execution_count": 5,
   "id": "69f54677",
   "metadata": {},
   "outputs": [
    {
     "name": "stderr",
     "output_type": "stream",
     "text": [
      "2025-05-28 19:06:21.151287: I external/local_xla/xla/stream_executor/cuda/cuda_executor.cc:887] could not open file to read NUMA node: /sys/bus/pci/devices/0000:01:00.0/numa_node\n",
      "Your kernel may have been built without NUMA support.\n",
      "2025-05-28 19:06:21.151382: I external/local_xla/xla/stream_executor/cuda/cuda_executor.cc:887] could not open file to read NUMA node: /sys/bus/pci/devices/0000:01:00.0/numa_node\n",
      "Your kernel may have been built without NUMA support.\n",
      "2025-05-28 19:06:21.151398: I external/local_xla/xla/stream_executor/cuda/cuda_executor.cc:887] could not open file to read NUMA node: /sys/bus/pci/devices/0000:01:00.0/numa_node\n",
      "Your kernel may have been built without NUMA support.\n",
      "2025-05-28 19:06:21.421317: I external/local_xla/xla/stream_executor/cuda/cuda_executor.cc:887] could not open file to read NUMA node: /sys/bus/pci/devices/0000:01:00.0/numa_node\n",
      "Your kernel may have been built without NUMA support.\n",
      "2025-05-28 19:06:21.421376: I external/local_xla/xla/stream_executor/cuda/cuda_executor.cc:887] could not open file to read NUMA node: /sys/bus/pci/devices/0000:01:00.0/numa_node\n",
      "Your kernel may have been built without NUMA support.\n",
      "2025-05-28 19:06:21.421386: I tensorflow/core/common_runtime/gpu/gpu_device.cc:2022] Could not identify NUMA node of platform GPU id 0, defaulting to 0.  Your kernel may not have been built with NUMA support.\n",
      "2025-05-28 19:06:21.421408: I external/local_xla/xla/stream_executor/cuda/cuda_executor.cc:887] could not open file to read NUMA node: /sys/bus/pci/devices/0000:01:00.0/numa_node\n",
      "Your kernel may have been built without NUMA support.\n",
      "2025-05-28 19:06:21.421423: I tensorflow/core/common_runtime/gpu/gpu_device.cc:1929] Created device /job:localhost/replica:0/task:0/device:GPU:0 with 5563 MB memory:  -> device: 0, name: NVIDIA GeForce RTX 4060 Laptop GPU, pci bus id: 0000:01:00.0, compute capability: 8.9\n",
      "2025-05-28 19:06:23.008797: I external/local_tsl/tsl/platform/default/subprocess.cc:304] Start cannot spawn child process: No such file or directory\n",
      "All PyTorch model weights were used when initializing TFBertForTokenClassification.\n",
      "\n",
      "Some weights or buffers of the TF 2.0 model TFBertForTokenClassification were not initialized from the PyTorch model and are newly initialized: ['classifier.weight', 'classifier.bias']\n",
      "You should probably TRAIN this model on a down-stream task to be able to use it for predictions and inference.\n"
     ]
    }
   ],
   "source": [
    "# Loading tokenizer, model and data collator\n",
    "model_name = \"bert-base-cased\"\n",
    "tokenizer = BertTokenizerFast.from_pretrained(model_name, cache_dir=\"./cache\")\n",
    "model = TFBertForTokenClassification.from_pretrained(model_name, num_labels=9) # Check EDA.ipynb for number of labels\n",
    "data_collator = DataCollatorForTokenClassification(tokenizer)"
   ]
  },
  {
   "cell_type": "code",
   "execution_count": 6,
   "id": "1bd692ea",
   "metadata": {},
   "outputs": [
    {
     "name": "stderr",
     "output_type": "stream",
     "text": [
      "Map: 100%|██████████| 3453/3453 [00:00<00:00, 8066.97 examples/s]\n"
     ]
    }
   ],
   "source": [
    "def tokenize_and_align_labels(examples):\n",
    "    tokenized_inputs = tokenizer(\n",
    "        examples[\"tokens\"],\n",
    "        truncation=True,\n",
    "        is_split_into_words=True,\n",
    "        padding=True,\n",
    "        return_tensors=\"tf\"\n",
    "    )\n",
    "    \n",
    "    labels = []\n",
    "    for i, label in enumerate(examples[\"ner_tags\"]):\n",
    "        word_ids = tokenized_inputs.word_ids(batch_index=i)\n",
    "        aligned_labels = []\n",
    "        previous_word_idx = None\n",
    "        for word_idx in word_ids:\n",
    "            if word_idx is None:  # Special tokens ([CLS], [SEP])\n",
    "                aligned_labels.append(-100)\n",
    "            elif word_idx != previous_word_idx:  # First token of a word\n",
    "                aligned_labels.append(label[word_idx])\n",
    "            else:  # Subword token\n",
    "                aligned_labels.append(-100)\n",
    "            previous_word_idx = word_idx\n",
    "        labels.append(aligned_labels)\n",
    "    \n",
    "    tokenized_inputs[\"labels\"] = tf.constant(labels)\n",
    "    return tokenized_inputs\n",
    "\n",
    "# Apply tokenization\n",
    "train_dataset = dataset[\"train\"].map(tokenize_and_align_labels, batched=True)\n",
    "val_dataset = dataset[\"validation\"].map(tokenize_and_align_labels, batched=True)\n",
    "test_dataset = dataset[\"test\"].map(tokenize_and_align_labels, batched=True)"
   ]
  },
  {
   "cell_type": "code",
   "execution_count": 7,
   "id": "7e3dc6c0",
   "metadata": {},
   "outputs": [
    {
     "name": "stderr",
     "output_type": "stream",
     "text": [
      "/mnt/d/github/Named_Entity_Recognition/ner_venv/lib/python3.11/site-packages/datasets/arrow_dataset.py:400: FutureWarning: The output of `to_tf_dataset` will change when a passing single element list for `labels` or `columns` in the next datasets version. To return a tuple structure rather than dict, pass a single string.\n",
      "Old behaviour: columns=['a'], labels=['labels'] -> (tf.Tensor, tf.Tensor)  \n",
      "             : columns='a', labels='labels' -> (tf.Tensor, tf.Tensor)  \n",
      "New behaviour: columns=['a'],labels=['labels'] -> ({'a': tf.Tensor}, {'labels': tf.Tensor})  \n",
      "             : columns='a', labels='labels' -> (tf.Tensor, tf.Tensor) \n",
      "  warnings.warn(\n",
      "You're using a BertTokenizerFast tokenizer. Please note that with a fast tokenizer, using the `__call__` method is faster than using a method to encode the text followed by a call to the `pad` method to get a padded encoding.\n"
     ]
    }
   ],
   "source": [
    "def convert_to_tf_dataset(hf_dataset, batch_size=8):\n",
    "    return hf_dataset.to_tf_dataset(\n",
    "        columns=[\"input_ids\", \"token_type_ids\", \"attention_mask\"],\n",
    "        label_cols=[\"labels\"],\n",
    "        shuffle=True,\n",
    "        batch_size=batch_size,\n",
    "        collate_fn=data_collator\n",
    "    )\n",
    "\n",
    "# Convert datasets\n",
    "tf_train_dataset = convert_to_tf_dataset(train_dataset)\n",
    "tf_val_dataset = convert_to_tf_dataset(val_dataset)\n",
    "tf_test_dataset = convert_to_tf_dataset(test_dataset)\n"
   ]
  },
  {
   "cell_type": "code",
   "execution_count": 8,
   "id": "df65fa24",
   "metadata": {},
   "outputs": [
    {
     "name": "stdout",
     "output_type": "stream",
     "text": [
      "Epoch 1/3\n"
     ]
    },
    {
     "name": "stderr",
     "output_type": "stream",
     "text": [
      "2025-05-28 19:06:57.434245: I external/local_xla/xla/service/service.cc:168] XLA service 0x7f0490cf5290 initialized for platform CUDA (this does not guarantee that XLA will be used). Devices:\n",
      "2025-05-28 19:06:57.434292: I external/local_xla/xla/service/service.cc:176]   StreamExecutor device (0): NVIDIA GeForce RTX 4060 Laptop GPU, Compute Capability 8.9\n",
      "2025-05-28 19:06:57.543048: I tensorflow/compiler/mlir/tensorflow/utils/dump_mlir_util.cc:269] disabling MLIR crash reproducer, set env var `MLIR_CRASH_REPRODUCER_DIRECTORY` to enable.\n",
      "2025-05-28 19:06:57.649456: I external/local_xla/xla/stream_executor/cuda/cuda_dnn.cc:454] Loaded cuDNN version 8907\n",
      "WARNING: All log messages before absl::InitializeLog() is called are written to STDERR\n",
      "I0000 00:00:1748439417.748961    8931 device_compiler.h:186] Compiled cluster using XLA!  This line is logged at most once for the lifetime of the process.\n"
     ]
    },
    {
     "name": "stdout",
     "output_type": "stream",
     "text": [
      "1756/1756 [==============================] - 320s 167ms/step - loss: 0.1010 - accuracy: 0.1127 - val_loss: 0.0462 - val_accuracy: 0.1049\n",
      "Epoch 2/3\n",
      "1756/1756 [==============================] - 293s 167ms/step - loss: 0.0265 - accuracy: 0.1144 - val_loss: 0.0414 - val_accuracy: 0.1050\n",
      "Epoch 3/3\n",
      "1756/1756 [==============================] - 288s 164ms/step - loss: 0.0169 - accuracy: 0.1157 - val_loss: 0.0409 - val_accuracy: 0.1056\n"
     ]
    }
   ],
   "source": [
    "# Model Training\n",
    "model.compile(\n",
    "    optimizer=tf.keras.optimizers.Adam(learning_rate=2e-5),\n",
    "    loss = tf.keras.losses.SparseCategoricalCrossentropy(from_logits=True, ignore_class=-100),\n",
    "    metrics=[\"accuracy\"]\n",
    ")\n",
    "\n",
    "history = model.fit(\n",
    "    tf_train_dataset,\n",
    "    validation_data=tf_val_dataset,\n",
    "    epochs=3,\n",
    "    verbose=1,\n",
    ")"
   ]
  },
  {
   "cell_type": "code",
   "execution_count": 9,
   "id": "956febd1",
   "metadata": {},
   "outputs": [],
   "source": [
    "label_list = dataset[\"train\"].features[\"ner_tags\"].feature.names"
   ]
  },
  {
   "cell_type": "code",
   "execution_count": 11,
   "id": "13c8aed5",
   "metadata": {},
   "outputs": [
    {
     "name": "stdout",
     "output_type": "stream",
     "text": [
      "              precision    recall  f1-score   support\n",
      "\n",
      "       B-PER       0.97      0.95      0.96      1617\n",
      "       I-PER       0.98      0.99      0.99      1156\n",
      "       B-ORG       0.88      0.92      0.90      1661\n",
      "       I-ORG       0.85      0.92      0.89       835\n",
      "       B-LOC       0.91      0.94      0.92      1668\n",
      "       I-LOC       0.83      0.90      0.86       257\n",
      "      B-MISC       0.83      0.83      0.83       702\n",
      "      I-MISC       0.63      0.71      0.67       216\n",
      "\n",
      "   micro avg       0.90      0.93      0.91      8112\n",
      "   macro avg       0.86      0.89      0.88      8112\n",
      "weighted avg       0.90      0.93      0.91      8112\n",
      "\n"
     ]
    }
   ],
   "source": [
    "from sklearn.metrics import classification_report\n",
    "import numpy as np\n",
    "\n",
    "def evaluate_model(model, tf_dataset, label_list):\n",
    "    predictions, true_labels = [], []\n",
    "    for batch in tf_dataset:\n",
    "        logits = model(batch[0])[0].numpy()  # Model outputs logits\n",
    "        labels = batch[1].numpy()  # Access labels directly from batch[1]\n",
    "        \n",
    "        for i in range(logits.shape[0]):\n",
    "            pred = np.argmax(logits[i], axis=-1)\n",
    "            true = labels[i]\n",
    "            valid_indices = true != -100  # Filter out ignored tokens\n",
    "            predictions.extend([label_list[p] for p in pred[valid_indices]])\n",
    "            true_labels.extend([label_list[t] for t in true[valid_indices]])\n",
    "    \n",
    "    return classification_report(true_labels, predictions, labels=label_list[1:])  # Exclude \"O\"\n",
    "\n",
    "# Evaluate on test set\n",
    "print(evaluate_model(model, tf_test_dataset, label_list))"
   ]
  },
  {
   "cell_type": "code",
   "execution_count": null,
   "id": "3a2947fe",
   "metadata": {},
   "outputs": [],
   "source": [
    "# Save the model\n",
    "model.save_pretrained(\"./bert_ner_model\")\n",
    "# Save the tokenizer\n",
    "tokenizer.save_pretrained(\"./bert_ner_tokenizer\")\n",
    "# Save the label list\n",
    "import json\n",
    "with open(\"./label_list.json\", \"w\") as f:\n",
    "    json.dump(label_list, f)\n",
    "# Save the training history\n",
    "import pandas as pd\n",
    "history_df = pd.DataFrame(history.history)\n",
    "history_df.to_csv(\"./training_history.csv\", index=False)\n"
   ]
  },
  {
   "cell_type": "code",
   "execution_count": 14,
   "id": "7edff8d6",
   "metadata": {},
   "outputs": [
    {
     "name": "stdout",
     "output_type": "stream",
     "text": [
      "[CLS]: O\n",
      "Stephen: B-PER\n",
      "[SEP]: O\n",
      "[PAD]: B-PER\n",
      "[PAD]: B-PER\n",
      "[PAD]: O\n",
      "[CLS]: O\n",
      "Barack: B-PER\n",
      "[SEP]: O\n",
      "[PAD]: B-PER\n"
     ]
    }
   ],
   "source": [
    "# testing the model\n",
    "def predict_ner(text):\n",
    "    inputs = tokenizer(text, return_tensors=\"tf\", truncation=True, padding=True, is_split_into_words=False)\n",
    "    outputs = model(inputs)\n",
    "    logits = outputs[0].numpy()\n",
    "    predictions = np.argmax(logits, axis=-1)[0]\n",
    "    \n",
    "    tokens = tokenizer.convert_ids_to_tokens(inputs[\"input_ids\"][0])\n",
    "    predicted_labels = [label_list[p] for p in predictions]\n",
    "    \n",
    "    return list(zip(tokens, predicted_labels))\n",
    "# Example usage\n",
    "text = \"Stephen was a theoretical physicist and cosmologist.\"\n",
    "predictions = predict_ner(text.split())\n",
    "for token, label in predictions:\n",
    "    print(f\"{token}: {label}\")\n",
    "# Example usage\n",
    "text = \"Barack Obama was the 44th President of the United States.\"\n",
    "predictions = predict_ner(text.split())\n",
    "for token, label in predictions:\n",
    "    print(f\"{token}: {label}\")"
   ]
  },
  {
   "cell_type": "code",
   "execution_count": 17,
   "id": "56fd3071",
   "metadata": {},
   "outputs": [
    {
     "name": "stdout",
     "output_type": "stream",
     "text": [
      "Label mapping: {0: 'O', 1: 'B-PER', 2: 'I-PER', 3: 'B-ORG', 4: 'I-ORG', 5: 'B-LOC', 6: 'I-LOC', 7: 'B-MISC', 8: 'I-MISC'}\n"
     ]
    }
   ],
   "source": [
    "# Label mapping\n",
    "labels = dataset['train'].features['ner_tags'].feature.names\n",
    "label_map = {i: label for i, label in enumerate(labels)}\n",
    "num_labels = len(label_map)\n",
    "print(\"Label mapping:\", label_map)"
   ]
  },
  {
   "cell_type": "code",
   "execution_count": 18,
   "id": "c534256a",
   "metadata": {},
   "outputs": [
    {
     "data": {
      "image/png": "[encoded data removed]",
      "text/plain": [
       "<Figure size 1000x800 with 2 Axes>"
      ]
     },
     "metadata": {},
     "output_type": "display_data"
    }
   ],
   "source": [
    "# confusion matrix\n",
    "import seaborn as sns\n",
    "import matplotlib.pyplot as plt\n",
    "from sklearn.metrics import confusion_matrix\n",
    "\n",
    "def plot_confusion_matrix(true_labels, predictions, label_list):\n",
    "    cm = confusion_matrix(true_labels, predictions, labels=label_list[1:])  # Exclude \"O\"\n",
    "    plt.figure(figsize=(10, 8))\n",
    "    sns.heatmap(cm, annot=True, fmt='d', cmap='Blues', xticklabels=label_list[1:], yticklabels=label_list[1:])\n",
    "    plt.xlabel('Predicted')\n",
    "    plt.ylabel('True')\n",
    "    plt.title('Confusion Matrix')\n",
    "    plt.savefig(\"plots/confusion_matrix.png\")\n",
    "    plt.show()\n",
    "# Get predictions and true labels for confusion matrix\n",
    "predictions, true_labels = [], []\n",
    "for batch in tf_test_dataset:\n",
    "    logits = model(batch[0])[0].numpy()  # Model outputs logits\n",
    "    labels = batch[1].numpy()  # Access labels directly from batch[1]\n",
    "    \n",
    "    for i in range(logits.shape[0]):\n",
    "        pred = np.argmax(logits[i], axis=-1)\n",
    "        true = labels[i]\n",
    "        valid_indices = true != -100  # Filter out ignored tokens\n",
    "        predictions.extend([label_list[p] for p in pred[valid_indices]])\n",
    "        true_labels.extend([label_list[t] for t in true[valid_indices]])\n",
    "plot_confusion_matrix(true_labels, predictions, label_list)\n",
    "\n"
   ]
  }
 ],
 "metadata": {
  "kernelspec": {
   "display_name": "ner_venv",
   "language": "python",
   "name": "python3"
  },
  "language_info": {
   "codemirror_mode": {
    "name": "ipython",
    "version": 3
   },
   "file_extension": ".py",
   "mimetype": "text/x-python",
   "name": "python",
   "nbconvert_exporter": "python",
   "pygments_lexer": "ipython3",
   "version": "3.11.0rc1"
  }
 },
 "nbformat": 4,
 "nbformat_minor": 5
}
